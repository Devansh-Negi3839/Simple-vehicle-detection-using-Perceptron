{
 "cells": [
  {
   "cell_type": "code",
   "execution_count": 2,
   "id": "e8c3a2de-e616-4f70-9046-adef2d1cbc43",
   "metadata": {},
   "outputs": [
    {
     "name": "stdout",
     "output_type": "stream",
     "text": [
      "Video 'input3.mp4' has been created successfully.\n"
     ]
    }
   ],
   "source": [
    "import cv2\n",
    "import os\n",
    "\n",
    "# Define the paths to the input folders and output video file\n",
    "folder1_path = 'r1'\n",
    "folder2_path = 'r2'\n",
    "output_video_filename = 'input3.mp4'\n",
    "\n",
    "# Get a list of all image files in the two folders\n",
    "folder1_images = [os.path.join(folder1_path, filename) for filename in os.listdir(folder1_path) if filename.endswith(('.jpg', '.png', '.jpeg'))]\n",
    "folder2_images = [os.path.join(folder2_path, filename) for filename in os.listdir(folder2_path) if filename.endswith(('.jpg', '.png', '.jpeg'))]\n",
    "\n",
    "# Check if there are images in both folders\n",
    "if not folder1_images or not folder2_images:\n",
    "    print(\"Error: One or both folders do not contain any image files.\")\n",
    "    exit()\n",
    "\n",
    "# Ensure both lists have the same length for alternation\n",
    "min_length = min(len(folder1_images), len(folder2_images))\n",
    "folder1_images = folder1_images[:min_length]\n",
    "folder2_images = folder2_images[:min_length]\n",
    "\n",
    "# Define the codec and frames per second (fps) for the output video\n",
    "fourcc = cv2.VideoWriter_fourcc(*'mp4v')\n",
    "fps = 10  # Adjust the frame rate as needed for your desired quality\n",
    "codec = 'H264'  # You can change the codec for better quality (e.g., 'XVID', 'MJPG', 'DIVX')\n",
    "\n",
    "# Get the dimensions of the first image (assuming all images have the same dimensions)\n",
    "first_image = cv2.imread(folder1_images[0])\n",
    "height, width, layers = first_image.shape\n",
    "\n",
    "# Create a VideoWriter object to save the video\n",
    "out = cv2.VideoWriter(output_video_filename, fourcc, fps, (width, height))\n",
    "\n",
    "# Iterate through the images and add them to the video alternately\n",
    "for img1_path, img2_path in zip(folder1_images, folder2_images):\n",
    "    frame1 = cv2.imread(img1_path)\n",
    "    frame2 = cv2.imread(img2_path)\n",
    "    \n",
    "    # Ensure both frames have the same dimensions\n",
    "    frame2 = cv2.resize(frame2, (width, height))\n",
    "    \n",
    "    # Add frames to the video alternately\n",
    "    out.write(frame1)\n",
    "    out.write(frame2)\n",
    "\n",
    "# Release the VideoWriter object\n",
    "out.release()\n",
    "\n",
    "print(f\"Video '{output_video_filename}' has been created successfully.\")\n"
   ]
  },
  {
   "cell_type": "code",
   "execution_count": null,
   "id": "689f3cd9-a129-4bb4-976c-c8fa456415bd",
   "metadata": {},
   "outputs": [],
   "source": []
  }
 ],
 "metadata": {
  "kernelspec": {
   "display_name": "Python 3 (ipykernel)",
   "language": "python",
   "name": "python3"
  },
  "language_info": {
   "codemirror_mode": {
    "name": "ipython",
    "version": 3
   },
   "file_extension": ".py",
   "mimetype": "text/x-python",
   "name": "python",
   "nbconvert_exporter": "python",
   "pygments_lexer": "ipython3",
   "version": "3.11.4"
  }
 },
 "nbformat": 4,
 "nbformat_minor": 5
}
