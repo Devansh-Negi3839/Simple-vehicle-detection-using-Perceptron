{
 "cells": [
  {
   "cell_type": "code",
   "execution_count": null,
   "id": "3b62a070-6f6c-4255-80ed-2bc818368533",
   "metadata": {},
   "outputs": [],
   "source": [
    "import cv2\n",
    "import numpy as np\n",
    "from keras.applications.vgg16 import VGG16, preprocess_input\n",
    "from keras.models import Model\n",
    "from keras.layers import Flatten\n",
    "from sklearn.model_selection import train_test_split\n",
    "\n",
    "# Load a pre-trained VGG16 model without the top (fully connected) layers\n",
    "base_model = VGG16(weights='imagenet', include_top=False, input_shape=(224, 224, 3))\n",
    "\n",
    "# Create a new model that includes the VGG16 base model followed by a Flatten layer\n",
    "model = Model(inputs=base_model.input, outputs=Flatten()(base_model.layers[-1].output))\n",
    "\n",
    "# Load your video file\n",
    "video_capture = cv2.VideoCapture(\"input2.mp4\")\n",
    "\n",
    "# Initialize lists to store features and labels\n",
    "features = []\n",
    "labels = []\n",
    "\n",
    "while True:\n",
    "    # Capture a frame from the video\n",
    "    ret, frame = video_capture.read()\n",
    "    if not ret:\n",
    "        break\n",
    "\n",
    "    # Preprocess the frame for the VGG16 model\n",
    "    frame = cv2.resize(frame, (224, 224))\n",
    "    frame = cv2.cvtColor(frame, cv2.COLOR_BGR2RGB)\n",
    "    frame = preprocess_input(frame)\n",
    "\n",
    "    # Extract features from the frame using the VGG16 model\n",
    "    features.append(model.predict(np.expand_dims(frame, axis=0))[0])\n",
    "\n",
    "    # Assuming you have some way to determine whether the frame contains a car or not\n",
    "    # In this example, I'll assume that if the frame number is even, it contains a car.\n",
    "    label = 1 if video_capture.get(cv2.CAP_PROP_POS_FRAMES) % 2 == 0 else 0\n",
    "    labels.append(label)\n",
    "\n",
    "# Convert lists to NumPy arrays\n",
    "features = np.array(features)\n",
    "labels = np.array(labels)\n",
    "\n",
    "# Split the data into training and testing sets\n",
    "x_train, x_test, y_train, y_test = train_test_split(features, labels, test_size=0.2, random_state=42)\n",
    "\n",
    "# Now you can use x_train and y_train to train a perceptron or any other classifier\n",
    "# to classify whether an image contains a car or not.\n",
    "# Replace this part with your specific classification code.\n"
   ]
  }
 ],
 "metadata": {
  "kernelspec": {
   "display_name": "Python 3 (ipykernel)",
   "language": "python",
   "name": "python3"
  },
  "language_info": {
   "codemirror_mode": {
    "name": "ipython",
    "version": 3
   },
   "file_extension": ".py",
   "mimetype": "text/x-python",
   "name": "python",
   "nbconvert_exporter": "python",
   "pygments_lexer": "ipython3",
   "version": "3.11.4"
  }
 },
 "nbformat": 4,
 "nbformat_minor": 5
}
